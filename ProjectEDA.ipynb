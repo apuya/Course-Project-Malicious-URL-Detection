{
 "cells": [
  {
   "cell_type": "markdown",
   "id": "7cd6e630-09ab-48fc-8e04-2d55b7690e0f",
   "metadata": {},
   "source": [
    "# Course Project: Malicious URL Detection\n",
    "## Dataset EDA"
   ]
  },
  {
   "cell_type": "markdown",
   "id": "baea99e7-29fe-42f6-86f6-9e23d59dfb1b",
   "metadata": {},
   "source": [
    "### Import Libraries"
   ]
  },
  {
   "cell_type": "code",
   "execution_count": null,
   "id": "09bf14de-9b88-42a6-9716-a814faee0efb",
   "metadata": {},
   "outputs": [],
   "source": [
    "import pandas as pd\n",
    "import numpy as np\n",
    "\n",
    "import matplotlib.pyplot as plt\n",
    "import seaborn as sns\n",
    "import missingno as msno\n",
    "\n",
    "from sklearn.model_selection import train_test_split\n",
    "from sklearn.preprocessing import StandardScaler\n",
    "from sklearn.metrics import classification_report, confusion_matrix\n",
    "\n",
    "import tldextract\n",
    "import re\n",
    "from urllib.parse import urlparse\n",
    "\n",
    "import plotly.express as px\n",
    "import altair as alt\n",
    "import statsmodels.api as sm\n",
    "\n",
    "pd.set_option(\"display.max_columns\", 100)\n",
    "pd.set_option(\"display.width\", 120)\n",
    "sns.set_theme()"
   ]
  },
  {
   "cell_type": "markdown",
   "id": "7ee308d5-0d57-47d6-a564-651d896e2c77",
   "metadata": {},
   "source": [
    "### Malicious URLs dataset"
   ]
  },
  {
   "cell_type": "code",
   "execution_count": 27,
   "id": "7ed1bb19-a23d-48a7-a60e-20a146bb2656",
   "metadata": {},
   "outputs": [
    {
     "name": "stdout",
     "output_type": "stream",
     "text": [
      "                                                 url        type\n",
      "0                                   br-icloud.com.br    phishing\n",
      "1                mp3raid.com/music/krizz_kaliko.html      benign\n",
      "2                    bopsecrets.org/rexroth/cr/1.htm      benign\n",
      "3  http://www.garage-pirenne.be/index.php?option=...  defacement\n",
      "4  http://adventure-nicaragua.net/index.php?optio...  defacement\n",
      "5  http://buzzfil.net/m/show-art/ils-etaient-loin...      benign\n",
      "6      espn.go.com/nba/player/_/id/3457/brandon-rush      benign\n",
      "7     yourbittorrent.com/?q=anthony-hamilton-soulife      benign\n",
      "8       http://www.pashminaonline.com/pure-pashminas  defacement\n",
      "9      allmusic.com/album/crazy-from-the-heat-r16990      benign\n",
      "\n",
      "Shape: (651191, 2)\n",
      "\n",
      "Info:\n",
      "<class 'pandas.core.frame.DataFrame'>\n",
      "RangeIndex: 651191 entries, 0 to 651190\n",
      "Data columns (total 2 columns):\n",
      " #   Column  Non-Null Count   Dtype \n",
      "---  ------  --------------   ----- \n",
      " 0   url     651191 non-null  object\n",
      " 1   type    651191 non-null  object\n",
      "dtypes: object(2)\n",
      "memory usage: 9.9+ MB\n",
      "None\n",
      "\n",
      "Nulls per column:\n",
      " url     0\n",
      "type    0\n",
      "dtype: int64\n",
      "\n",
      "Duplicate rows: 10066\n",
      "Target column: type\n",
      "type\n",
      "benign        0.657415\n",
      "defacement    0.148124\n",
      "phishing      0.144521\n",
      "malware       0.049939\n",
      "Name: proportion, dtype: float64\n",
      "Columns: ['url', 'type']\n"
     ]
    }
   ],
   "source": [
    "df = pd.read_csv(\"dataset/malicious_phish.csv\")\n",
    "\n",
    "print(df.head(10))\n",
    "print(\"\\nShape:\", df.shape)\n",
    "print(\"\\nInfo:\"); print(df.info())\n",
    "print(\"\\nNulls per column:\\n\", df.isna().sum())\n",
    "print(\"\\nDuplicate rows:\", df.duplicated().sum())\n",
    "\n",
    "target_col = \"type\" if \"type\" in df.columns else df.columns[-1]\n",
    "print(\"Target column:\", target_col)\n",
    "print(df[target_col].value_counts(dropna=False, normalize=True))\n",
    "\n",
    "print(\"Columns:\", df.columns.tolist())"
   ]
  },
  {
   "cell_type": "markdown",
   "id": "1d3e279a-8be6-4a33-9e16-bbd132e139aa",
   "metadata": {},
   "source": [
    "### Phishing URL dataset"
   ]
  },
  {
   "cell_type": "code",
   "execution_count": 26,
   "id": "79d6d68e-7dac-45ea-bf56-e82f4c9eccc1",
   "metadata": {},
   "outputs": [
    {
     "name": "stdout",
     "output_type": "stream",
     "text": [
      "                                                 url      Type\n",
      "0  https://docs.google.com/presentation/d/e/2PACX...  Phishing\n",
      "1    https://btttelecommunniccatiion.weeblysite.com/  Phishing\n",
      "2                        https://kq0hgp.webwave.dev/  Phishing\n",
      "3  https://brittishtele1bt-69836.getresponsesite....  Phishing\n",
      "4         https://bt-internet-105056.weeblysite.com/  Phishing\n",
      "5                         https://teleej.weebly.com/  Phishing\n",
      "6          https://maryleyshon.wixsite.com/my-site-1  Phishing\n",
      "7           https://chamakhman.wixsite.com/my-site-4  Phishing\n",
      "8                          https://posts-ch.buzz/ch/  Phishing\n",
      "9                       https://tinyurl.com/bdfpfyur  Phishing\n",
      "\n",
      "Shape: (54807, 2)\n",
      "\n",
      "Info:\n",
      "<class 'pandas.core.frame.DataFrame'>\n",
      "RangeIndex: 54807 entries, 0 to 54806\n",
      "Data columns (total 2 columns):\n",
      " #   Column  Non-Null Count  Dtype \n",
      "---  ------  --------------  ----- \n",
      " 0   url     54807 non-null  object\n",
      " 1   Type    54807 non-null  object\n",
      "dtypes: object(2)\n",
      "memory usage: 856.5+ KB\n",
      "None\n",
      "\n",
      "Nulls per column:\n",
      " url     0\n",
      "Type    0\n",
      "dtype: int64\n",
      "\n",
      "Duplicate rows: 2\n",
      "Target column: Type\n",
      "Type\n",
      "Phishing    1.0\n",
      "Name: proportion, dtype: float64\n",
      "Columns: ['url', 'Type']\n"
     ]
    }
   ],
   "source": [
    "df = pd.read_csv(\"dataset/Phishing_URLs.csv\")\n",
    "\n",
    "print(df.head(10))\n",
    "print(\"\\nShape:\", df.shape)\n",
    "print(\"\\nInfo:\"); print(df.info())\n",
    "print(\"\\nNulls per column:\\n\", df.isna().sum())\n",
    "print(\"\\nDuplicate rows:\", df.duplicated().sum())\n",
    "\n",
    "target_col = \"type\" if \"type\" in df.columns else df.columns[-1]\n",
    "print(\"Target column:\", target_col)\n",
    "print(df[target_col].value_counts(dropna=False, normalize=True))\n",
    "\n",
    "print(\"Columns:\", df.columns.tolist())"
   ]
  },
  {
   "cell_type": "code",
   "execution_count": 25,
   "id": "25c139dc-c0d6-4714-851b-5e19c124860d",
   "metadata": {},
   "outputs": [
    {
     "name": "stdout",
     "output_type": "stream",
     "text": [
      "                         url        type\n",
      "0     https://www.google.com  legitimate\n",
      "1    https://www.youtube.com  legitimate\n",
      "2   https://www.facebook.com  legitimate\n",
      "3      https://www.baidu.com  legitimate\n",
      "4  https://www.wikipedia.org  legitimate\n",
      "5     https://www.reddit.com  legitimate\n",
      "6      https://www.yahoo.com  legitimate\n",
      "7   https://www.google.co.in  legitimate\n",
      "8         https://www.qq.com  legitimate\n",
      "9     https://www.amazon.com  legitimate\n",
      "\n",
      "Shape: (450176, 2)\n",
      "\n",
      "Info:\n",
      "<class 'pandas.core.frame.DataFrame'>\n",
      "RangeIndex: 450176 entries, 0 to 450175\n",
      "Data columns (total 2 columns):\n",
      " #   Column  Non-Null Count   Dtype \n",
      "---  ------  --------------   ----- \n",
      " 0   url     450176 non-null  object\n",
      " 1   type    450176 non-null  object\n",
      "dtypes: object(2)\n",
      "memory usage: 6.9+ MB\n",
      "None\n",
      "\n",
      "Nulls per column:\n",
      " url     0\n",
      "type    0\n",
      "dtype: int64\n",
      "\n",
      "Duplicate rows: 0\n",
      "Target column: type\n",
      "type\n",
      "legitimate    0.768006\n",
      "phishing      0.231994\n",
      "Name: proportion, dtype: float64\n",
      "Columns: ['url', 'type']\n"
     ]
    }
   ],
   "source": [
    "df = pd.read_csv(\"dataset/URL_dataset.csv\")\n",
    "\n",
    "print(df.head(10))\n",
    "print(\"\\nShape:\", df.shape)\n",
    "print(\"\\nInfo:\"); print(df.info())\n",
    "print(\"\\nNulls per column:\\n\", df.isna().sum())\n",
    "print(\"\\nDuplicate rows:\", df.duplicated().sum())\n",
    "\n",
    "target_col = \"type\" if \"type\" in df.columns else df.columns[-1]\n",
    "print(\"Target column:\", target_col)\n",
    "print(df[target_col].value_counts(dropna=False, normalize=True))\n",
    "\n",
    "print(\"Columns:\", df.columns.tolist())"
   ]
  },
  {
   "cell_type": "markdown",
   "id": "4a9938e2-4ade-4f23-a7d2-932103229287",
   "metadata": {},
   "source": [
    "### Malicious And Benign URLs"
   ]
  },
  {
   "cell_type": "code",
   "execution_count": 24,
   "id": "bbcce57d-e3af-4b34-a4de-d9a346a9da87",
   "metadata": {},
   "outputs": [
    {
     "name": "stdout",
     "output_type": "stream",
     "text": [
      "   Unnamed: 0                        url   label  result\n",
      "0           0     https://www.google.com  benign       0\n",
      "1           1    https://www.youtube.com  benign       0\n",
      "2           2   https://www.facebook.com  benign       0\n",
      "3           3      https://www.baidu.com  benign       0\n",
      "4           4  https://www.wikipedia.org  benign       0\n",
      "5           5     https://www.reddit.com  benign       0\n",
      "6           6      https://www.yahoo.com  benign       0\n",
      "7           7   https://www.google.co.in  benign       0\n",
      "8           8         https://www.qq.com  benign       0\n",
      "9           9     https://www.amazon.com  benign       0\n",
      "\n",
      "Shape: (450176, 4)\n",
      "\n",
      "Info:\n",
      "<class 'pandas.core.frame.DataFrame'>\n",
      "RangeIndex: 450176 entries, 0 to 450175\n",
      "Data columns (total 4 columns):\n",
      " #   Column      Non-Null Count   Dtype \n",
      "---  ------      --------------   ----- \n",
      " 0   Unnamed: 0  450176 non-null  int64 \n",
      " 1   url         450176 non-null  object\n",
      " 2   label       450176 non-null  object\n",
      " 3   result      450176 non-null  int64 \n",
      "dtypes: int64(2), object(2)\n",
      "memory usage: 13.7+ MB\n",
      "None\n",
      "\n",
      "Nulls per column:\n",
      " Unnamed: 0    0\n",
      "url           0\n",
      "label         0\n",
      "result        0\n",
      "dtype: int64\n",
      "\n",
      "Duplicate rows: 0\n",
      "Target column: result\n",
      "result\n",
      "0    0.768006\n",
      "1    0.231994\n",
      "Name: proportion, dtype: float64\n",
      "Columns: ['Unnamed: 0', 'url', 'label', 'result']\n"
     ]
    }
   ],
   "source": [
    "df = pd.read_csv(\"dataset/urldata.csv\")\n",
    "\n",
    "print(df.head(10))\n",
    "print(\"\\nShape:\", df.shape)\n",
    "print(\"\\nInfo:\"); print(df.info())\n",
    "print(\"\\nNulls per column:\\n\", df.isna().sum())\n",
    "print(\"\\nDuplicate rows:\", df.duplicated().sum())\n",
    "\n",
    "target_col = \"type\" if \"type\" in df.columns else df.columns[-1]\n",
    "print(\"Target column:\", target_col)\n",
    "print(df[target_col].value_counts(dropna=False, normalize=True))\n",
    "\n",
    "print(\"Columns:\", df.columns.tolist())"
   ]
  },
  {
   "cell_type": "code",
   "execution_count": null,
   "id": "610066ab-d079-41c9-897e-67daf3b6b519",
   "metadata": {},
   "outputs": [],
   "source": []
  }
 ],
 "metadata": {
  "kernelspec": {
   "display_name": "Course Project: Malicious URL Dectection",
   "language": "python",
   "name": "malicious-url-env"
  },
  "language_info": {
   "codemirror_mode": {
    "name": "ipython",
    "version": 3
   },
   "file_extension": ".py",
   "mimetype": "text/x-python",
   "name": "python",
   "nbconvert_exporter": "python",
   "pygments_lexer": "ipython3",
   "version": "3.12.10"
  }
 },
 "nbformat": 4,
 "nbformat_minor": 5
}
